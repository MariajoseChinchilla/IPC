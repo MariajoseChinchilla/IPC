{
 "cells": [
  {
   "cell_type": "markdown",
   "metadata": {},
   "source": [
    "# Comparación de datos del IPC"
   ]
  },
  {
   "cell_type": "code",
   "execution_count": 1,
   "metadata": {},
   "outputs": [],
   "source": [
    "# Lectura de librerías\n",
    "import pandas as pd\n",
    "from datetime import datetime\n",
    "from openpyxl import load_workbook\n",
    "import os"
   ]
  },
  {
   "cell_type": "code",
   "execution_count": 31,
   "metadata": {},
   "outputs": [],
   "source": [
    "# Leer bases de datos\n",
    "datos = pd.read_excel(\"Canasta.xlsx\")\n",
    "boleta = pd.read_excel(\"Boleta.xlsx\")\n",
    "\n",
    "# Pasar a mayúsculas las columnas\n",
    "datos.rename(columns={columna: columna.upper() for columna in datos.columns}, inplace=True)\n",
    "boleta.rename(columns={columna: columna.upper() for columna in boleta.columns}, inplace=True)\n",
    "\n",
    "# Agregar columna de identificación\n",
    "datos[\"IDENTIFICADOR\"] = \"IPC OFICIAL\"\n",
    "boleta[\"IDENTIFICADOR\"] = \"BOLETA\""
   ]
  },
  {
   "cell_type": "code",
   "execution_count": 3,
   "metadata": {},
   "outputs": [
    {
     "data": {
      "text/html": [
       "<div>\n",
       "<style scoped>\n",
       "    .dataframe tbody tr th:only-of-type {\n",
       "        vertical-align: middle;\n",
       "    }\n",
       "\n",
       "    .dataframe tbody tr th {\n",
       "        vertical-align: top;\n",
       "    }\n",
       "\n",
       "    .dataframe thead th {\n",
       "        text-align: right;\n",
       "    }\n",
       "</style>\n",
       "<table border=\"1\" class=\"dataframe\">\n",
       "  <thead>\n",
       "    <tr style=\"text-align: right;\">\n",
       "      <th></th>\n",
       "      <th>CÓDIGO</th>\n",
       "      <th>NOMBRE DE LA VARIEDAD</th>\n",
       "      <th>TAMAÑO</th>\n",
       "      <th>CANTIDAD RECOLECTADA</th>\n",
       "      <th>IDENTIFICADOR</th>\n",
       "    </tr>\n",
       "  </thead>\n",
       "  <tbody>\n",
       "    <tr>\n",
       "      <th>0</th>\n",
       "      <td>01.1.1.2.01.1</td>\n",
       "      <td>HARINA PARA PANQUEQUES</td>\n",
       "      <td>450 GRS</td>\n",
       "      <td>450 GRS</td>\n",
       "      <td>BOLETA</td>\n",
       "    </tr>\n",
       "    <tr>\n",
       "      <th>1</th>\n",
       "      <td>01.1.1.2.02.2</td>\n",
       "      <td>PAQUETE DE HARINA DE MAÍZ DE 800 A 1000 GRAMOS</td>\n",
       "      <td>907 GRS</td>\n",
       "      <td>907 GRS</td>\n",
       "      <td>BOLETA</td>\n",
       "    </tr>\n",
       "  </tbody>\n",
       "</table>\n",
       "</div>"
      ],
      "text/plain": [
       "          CÓDIGO                           NOMBRE DE LA VARIEDAD   TAMAÑO  \\\n",
       "0  01.1.1.2.01.1                          HARINA PARA PANQUEQUES  450 GRS   \n",
       "1  01.1.1.2.02.2  PAQUETE DE HARINA DE MAÍZ DE 800 A 1000 GRAMOS  907 GRS   \n",
       "\n",
       "  CANTIDAD RECOLECTADA IDENTIFICADOR  \n",
       "0              450 GRS        BOLETA  \n",
       "1              907 GRS        BOLETA  "
      ]
     },
     "execution_count": 3,
     "metadata": {},
     "output_type": "execute_result"
    }
   ],
   "source": [
    "boleta.head(2)"
   ]
  },
  {
   "cell_type": "code",
   "execution_count": 4,
   "metadata": {},
   "outputs": [],
   "source": [
    "# Limpieza de caracteres atípicos\n",
    "boleta[\"TAMAÑO\"] = boleta[\"TAMAÑO\"].apply(lambda x: x.replace(\"RED/10 UNIDADES\", \"10 UNIDADES\"))\n",
    "boleta[\"TAMAÑO\"] = boleta[\"TAMAÑO\"].apply(lambda x: x.replace(\"UNIDAD\", \"1 UNIDAD\"))\n",
    "\n",
    "# Estandarizar formato de datos para poder comparar\n",
    "datos[\"DESCRIPCION\"] = datos[\"DESCRIPCION\"].str.upper()\n",
    "datos[\"UNIDAD DE MEDIDA\"] = datos[\"UNIDAD DE MEDIDA\"].str.upper()\n",
    "\n",
    "# Dividir columna de tamaño en la boleta para que tenga cantidad y unidad de medida por separado\n",
    "boleta[\"CANTIDAD\"] = boleta[\"CANTIDAD\"].astype(\"str\")\n",
    "boleta[\"CANTIDAD\"] = boleta[\"TAMAÑO\"].apply(lambda x: x.split()[0] if len(x.split()) > 0 else None)\n",
    "boleta[\"UNIDAD DE MEDIDA\"] = boleta[\"TAMAÑO\"].apply(lambda x: x.split()[1] if len(x.split()) > 1 else None)\n",
    "\n",
    "# Hacer columnas de cantidad y unidad de medida para la cantidad recolectada\n",
    "boleta[\"CANTIDAD RECOLECTADA\"] = boleta[\"CANTIDAD\"].astype(\"str\")\n",
    "boleta[\"CANT RECOLECTADA\"] = boleta[\"CANTIDAD RECOLECTADA\"].apply(lambda x: x.split()[0] if len(x.split()) > 0 else None)\n",
    "boleta[\"UNIDAD RECOLECTADA\"] = boleta[\"CANTIDAD RECOLECTADA\"].apply(lambda x: x.split()[1] if len(x.split()) > 1 else None)\n",
    "\n",
    "\n",
    "\n",
    "# Casteo de columna cantidad\n",
    "boleta[\"CANTIDAD\"].fillna(-1, inplace=True)\n",
    "datos[\"CANTIDAD\"].fillna(-1, inplace=True)\n",
    "boleta[\"CANTIDAD\"] = pd.to_numeric(boleta[\"CANTIDAD\"], errors='coerce')\n",
    "datos[\"CANTIDAD\"] = pd.to_numeric(datos[\"CANTIDAD\"], errors='coerce')\n",
    "boleta[\"CANT RECOLECTADA\"].fillna(-1, inplace=True)\n",
    "boleta[\"CANT RECOLECTADA\"] = pd.to_numeric(boleta[\"CANT RECOLECTADA\"], errors='coerce')\n",
    "\n",
    "\n",
    "# Renombrar columna de NOMBRE DE LA VARIEDAD\n",
    "boleta.rename(columns={\"NOMBRE DE LA VARIEDAD\": \"DESCRIPCION\", \"CÓDIGO\": \"CODIGO\"}, inplace=True)\n",
    "datos.rename(columns={\"CODIGO IPC_2023\": \"CODIGO\"}, inplace=True)\n",
    "\n",
    "# Agregar columna de cant recolectada y unidad recolectada\n",
    "datos[\"CANT RECOLECTADA\"] = None\n",
    "datos[\"UNIDAD RECOLECTADA\"] = None\n",
    "\n",
    "# Eliminar columna de tamaño\n",
    "boleta = boleta[[\"CODIGO\", \"DESCRIPCION\", \"CANTIDAD\", \"UNIDAD DE MEDIDA\", \"CANT RECOLECTADA\", \"UNIDAD RECOLECTADA\", \"IDENTIFICADOR\"]]\n",
    "boleta.drop_duplicates(keep=\"first\", inplace=True)\n",
    "\n",
    "# Ordenar columnas\n",
    "datos = datos[[\"CODIGO\", \"DESCRIPCION\",\t\"CANTIDAD\", \"UNIDAD DE MEDIDA\", \"CANT RECOLECTADA\", \"UNIDAD RECOLECTADA\",\"IDENTIFICADOR\"]]"
   ]
  },
  {
   "cell_type": "code",
   "execution_count": 5,
   "metadata": {},
   "outputs": [],
   "source": [
    "# Limpieza a cadena quitando tildes, espacios y comas\n",
    "\n",
    "# Función para limpiar la descripción\n",
    "def limpiar_descripcion(descripcion):\n",
    "    # Quitar tildes\n",
    "    descripcion = descripcion.translate(str.maketrans('áéíóúÁÉÍÓÚ', 'aeiouAEIOU'))\n",
    "    # Quitar comas\n",
    "    descripcion = descripcion.replace(',', '')\n",
    "    # Quitar espacios adicionales\n",
    "    descripcion = ' '.join(descripcion.split())\n",
    "    return descripcion\n",
    "\n",
    "# Aplicar la función a la columna\n",
    "datos['DESCRIPCION'] = datos['DESCRIPCION'].apply(limpiar_descripcion)\n",
    "boleta['DESCRIPCION'] = boleta['DESCRIPCION'].apply(limpiar_descripcion)"
   ]
  },
  {
   "cell_type": "markdown",
   "metadata": {},
   "source": [
    "### Diccionario con unidades de medida"
   ]
  },
  {
   "cell_type": "code",
   "execution_count": 6,
   "metadata": {},
   "outputs": [],
   "source": [
    "# Crear diccionario con unidades de medida y sus abreviacion\n",
    "dic_unidades = {'GRAMOS': 'GRS','UNIDAD': 'UNIDADES', \n",
    "'MILILITROS': 'ML', \n",
    "'UNIDAD ': '', \n",
    "'YARDA': '',\n",
    "'METROS CÚBICOS': '',\n",
    "'METRO CUADRADO': '',\n",
    "'SERVICIO': '',\n",
    "'JUEGO': '',\n",
    "'METRO': ''}\n",
    "\n",
    "# Sustituir abreviaciones por su llave en el diccionario\n",
    "datos[\"UNIDAD DE MEDIDA\"] = datos[\"UNIDAD DE MEDIDA\"].apply(lambda x: dic_unidades.get(x))"
   ]
  },
  {
   "cell_type": "markdown",
   "metadata": {},
   "source": [
    "## Comparar datos"
   ]
  },
  {
   "cell_type": "code",
   "execution_count": 7,
   "metadata": {},
   "outputs": [],
   "source": [
    "# Para comparar los datos, se une el dataframe con los códigos en revisión en la boleta y luego se quitan duplicados\n",
    "\n",
    "# Obtenemos un listado de los códigos que estamos revisando\n",
    "codigos_en_revision = boleta[\"CODIGO\"].unique().tolist()\n",
    "\n",
    "# Filtrar datos con los códigos en revisión\n",
    "datos_comparacion = datos[datos[\"CODIGO\"].isin(codigos_en_revision)]"
   ]
  },
  {
   "cell_type": "code",
   "execution_count": 8,
   "metadata": {},
   "outputs": [
    {
     "name": "stderr",
     "output_type": "stream",
     "text": [
      "C:\\Users\\cycastañeda\\AppData\\Local\\Temp\\ipykernel_16516\\1444538546.py:2: FutureWarning: The behavior of DataFrame concatenation with empty or all-NA entries is deprecated. In a future version, this will no longer exclude empty or all-NA columns when determining the result dtypes. To retain the old behavior, exclude the relevant entries before the concat operation.\n",
      "  df_revision = pd.concat([datos_comparacion, boleta])\n"
     ]
    }
   ],
   "source": [
    "# Unir dataframes con códigos en revisión\n",
    "df_revision = pd.concat([datos_comparacion, boleta])\n",
    "\n",
    "# Los erróneos son aquellos registros que no coinciden con la canasta\n",
    "df_erroneos = df_revision.drop_duplicates(keep=False, subset=[\"CODIGO\",\"DESCRIPCION\",\"UNIDAD DE MEDIDA\"]).reset_index(drop=True)\n",
    "# df_erroneos[\"IDENTIFICADOR\"].fillna(\"BOLETA\", inplace=True)\n",
    "\n",
    "# Agregar datos que no tengan igual cantidad cotizada y tamaño\n",
    "distintos = boleta[(boleta[\"CANTIDAD\"] != boleta[\"CANT RECOLECTADA\"]) & (~boleta[\"CANT RECOLECTADA\"].isna())].reset_index(drop=True)"
   ]
  },
  {
   "cell_type": "code",
   "execution_count": 9,
   "metadata": {},
   "outputs": [
    {
     "data": {
      "text/html": [
       "<div>\n",
       "<style scoped>\n",
       "    .dataframe tbody tr th:only-of-type {\n",
       "        vertical-align: middle;\n",
       "    }\n",
       "\n",
       "    .dataframe tbody tr th {\n",
       "        vertical-align: top;\n",
       "    }\n",
       "\n",
       "    .dataframe thead th {\n",
       "        text-align: right;\n",
       "    }\n",
       "</style>\n",
       "<table border=\"1\" class=\"dataframe\">\n",
       "  <thead>\n",
       "    <tr style=\"text-align: right;\">\n",
       "      <th></th>\n",
       "      <th>CODIGO</th>\n",
       "      <th>DESCRIPCION</th>\n",
       "      <th>CANTIDAD</th>\n",
       "      <th>UNIDAD DE MEDIDA</th>\n",
       "      <th>CANT RECOLECTADA</th>\n",
       "      <th>UNIDAD RECOLECTADA</th>\n",
       "      <th>IDENTIFICADOR</th>\n",
       "    </tr>\n",
       "  </thead>\n",
       "  <tbody>\n",
       "    <tr>\n",
       "      <th>30</th>\n",
       "      <td>01.1.3.1.01.2</td>\n",
       "      <td>TILAPIA</td>\n",
       "      <td>1</td>\n",
       "      <td>UNIDAD</td>\n",
       "      <td>NaN</td>\n",
       "      <td>None</td>\n",
       "      <td>BOLETA</td>\n",
       "    </tr>\n",
       "  </tbody>\n",
       "</table>\n",
       "</div>"
      ],
      "text/plain": [
       "           CODIGO DESCRIPCION  CANTIDAD UNIDAD DE MEDIDA  CANT RECOLECTADA  \\\n",
       "30  01.1.3.1.01.2     TILAPIA         1           UNIDAD               NaN   \n",
       "\n",
       "   UNIDAD RECOLECTADA IDENTIFICADOR  \n",
       "30               None        BOLETA  "
      ]
     },
     "execution_count": 9,
     "metadata": {},
     "output_type": "execute_result"
    }
   ],
   "source": [
    "boleta[boleta[\"CODIGO\"] == \"01.1.3.1.01.2\"]"
   ]
  },
  {
   "cell_type": "code",
   "execution_count": 10,
   "metadata": {},
   "outputs": [],
   "source": [
    "def exportar(nombre, df_erroneos, distintos):\n",
    "    # Obtener la fecha y hora actual\n",
    "    ahora = datetime.now()\n",
    "\n",
    "    # Formatear como string\n",
    "    fecha_hora = ahora.strftime(\"%H_%M_%S\")\n",
    "    filename = f\"Erroneos_{fecha_hora}_de_{nombre}.xlsx\"\n",
    "\n",
    "    # Verificar si el archivo ya existe\n",
    "    if os.path.exists(filename):\n",
    "        with pd.ExcelWriter(filename, engine='openpyxl', mode='a') as writer:\n",
    "            # Si el archivo existe, agrega las hojas nuevas\n",
    "            df_erroneos.to_excel(writer, sheet_name=\"Errores con el catalogo\")\n",
    "            distintos.to_excel(writer, sheet_name=\"Cantidades malas\")\n",
    "    else:\n",
    "        with pd.ExcelWriter(filename, engine='openpyxl') as writer:\n",
    "            # Si el archivo no existe, crea uno nuevo\n",
    "            df_erroneos.to_excel(writer, sheet_name=\"Errores con el catalogo\")\n",
    "            distintos.to_excel(writer, sheet_name=\"Cantidades malas\")\n"
   ]
  },
  {
   "cell_type": "code",
   "execution_count": 14,
   "metadata": {},
   "outputs": [],
   "source": [
    "exportar(\"Lester\", df_erroneos, distintos)"
   ]
  },
  {
   "cell_type": "code",
   "execution_count": 15,
   "metadata": {},
   "outputs": [
    {
     "data": {
      "text/html": [
       "<div>\n",
       "<style scoped>\n",
       "    .dataframe tbody tr th:only-of-type {\n",
       "        vertical-align: middle;\n",
       "    }\n",
       "\n",
       "    .dataframe tbody tr th {\n",
       "        vertical-align: top;\n",
       "    }\n",
       "\n",
       "    .dataframe thead th {\n",
       "        text-align: right;\n",
       "    }\n",
       "</style>\n",
       "<table border=\"1\" class=\"dataframe\">\n",
       "  <thead>\n",
       "    <tr style=\"text-align: right;\">\n",
       "      <th></th>\n",
       "      <th>CODIGO</th>\n",
       "      <th>DESCRIPCION</th>\n",
       "      <th>CANTIDAD</th>\n",
       "      <th>UNIDAD DE MEDIDA</th>\n",
       "      <th>CANT RECOLECTADA</th>\n",
       "      <th>UNIDAD RECOLECTADA</th>\n",
       "      <th>IDENTIFICADOR</th>\n",
       "    </tr>\n",
       "  </thead>\n",
       "  <tbody>\n",
       "    <tr>\n",
       "      <th>31</th>\n",
       "      <td>01.1.1.4.02.2</td>\n",
       "      <td>HOJUELAS INSTANTANEA</td>\n",
       "      <td>454.0</td>\n",
       "      <td>GRS</td>\n",
       "      <td>None</td>\n",
       "      <td>None</td>\n",
       "      <td>IPC OFICIAL</td>\n",
       "    </tr>\n",
       "  </tbody>\n",
       "</table>\n",
       "</div>"
      ],
      "text/plain": [
       "           CODIGO           DESCRIPCION  CANTIDAD UNIDAD DE MEDIDA  \\\n",
       "31  01.1.1.4.02.2  HOJUELAS INSTANTANEA     454.0              GRS   \n",
       "\n",
       "   CANT RECOLECTADA UNIDAD RECOLECTADA IDENTIFICADOR  \n",
       "31             None               None   IPC OFICIAL  "
      ]
     },
     "execution_count": 15,
     "metadata": {},
     "output_type": "execute_result"
    }
   ],
   "source": [
    "datos[datos[\"CODIGO\"] == \"01.1.1.4.02.2\"]"
   ]
  },
  {
   "cell_type": "code",
   "execution_count": null,
   "metadata": {},
   "outputs": [],
   "source": []
  }
 ],
 "metadata": {
  "kernelspec": {
   "display_name": "Python 3",
   "language": "python",
   "name": "python3"
  },
  "language_info": {
   "codemirror_mode": {
    "name": "ipython",
    "version": 3
   },
   "file_extension": ".py",
   "mimetype": "text/x-python",
   "name": "python",
   "nbconvert_exporter": "python",
   "pygments_lexer": "ipython3",
   "version": "3.11.1"
  }
 },
 "nbformat": 4,
 "nbformat_minor": 2
}
